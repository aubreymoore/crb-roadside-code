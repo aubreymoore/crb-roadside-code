{
 "cells": [
  {
   "cell_type": "markdown",
   "id": "parental-manufacturer",
   "metadata": {
    "papermill": {
     "duration": 0.007856,
     "end_time": "2023-05-21T05:40:26.423923",
     "exception": false,
     "start_time": "2023-05-21T05:40:26.416067",
     "status": "completed"
    },
    "tags": []
   },
   "source": [
    "# create_db\n",
    "\n",
    "Creates and populates a SpatiaLite database.\n",
    "\n",
    "* 2021-11-25 Changed code so that DATADIR can contain a list of images, or multiple directories, each containing a list of images\n",
    "* 2021-11-26 Added **execute** function to run commands; raises an error which stops notebook if execution fails\n",
    "* 2022-10-15 Added parameters tag, improved inline documentation\n",
    "\n",
    "## spatialite\n",
    "\n",
    "Obviously, SpatiaLite must be installed:\n",
    "\n",
    "```\n",
    "sudo apt-get update -y\n",
    "sudo apt-get install -y spatialite-bin\n",
    "```\n",
    "## other dependancies\n",
    "\n",
    "* update_trees_table.sql\n",
    "* create_tree_location_table.sql\n",
    "* create_views.sql\n",
    "* create_grid.sql\n",
    "* create_stats_table.sql"
   ]
  },
  {
   "cell_type": "code",
   "execution_count": 1,
   "id": "partial-impossible",
   "metadata": {
    "execution": {
     "iopub.execute_input": "2023-05-21T05:40:26.442501Z",
     "iopub.status.busy": "2023-05-21T05:40:26.441799Z",
     "iopub.status.idle": "2023-05-21T05:40:26.445281Z",
     "shell.execute_reply": "2023-05-21T05:40:26.444752Z"
    },
    "papermill": {
     "duration": 0.016369,
     "end_time": "2023-05-21T05:40:26.445402",
     "exception": false,
     "start_time": "2023-05-21T05:40:26.429033",
     "status": "completed"
    },
    "tags": []
   },
   "outputs": [
    {
     "name": "stdout",
     "output_type": "stream",
     "text": [
      "time: 160 µs (started: 2023-05-21 15:40:26 +10:00)\n"
     ]
    }
   ],
   "source": [
    "try:\n",
    "    %load_ext autotime\n",
    "except:\n",
    "    !pip install ipython-autotime\n",
    "    %load_ext autotime"
   ]
  },
  {
   "cell_type": "code",
   "execution_count": 2,
   "id": "conservative-shoot",
   "metadata": {
    "execution": {
     "iopub.execute_input": "2023-05-21T05:40:26.457618Z",
     "iopub.status.busy": "2023-05-21T05:40:26.457293Z",
     "iopub.status.idle": "2023-05-21T05:40:26.757067Z",
     "shell.execute_reply": "2023-05-21T05:40:26.756703Z"
    },
    "papermill": {
     "duration": 0.306846,
     "end_time": "2023-05-21T05:40:26.757151",
     "exception": false,
     "start_time": "2023-05-21T05:40:26.450305",
     "status": "completed"
    },
    "tags": []
   },
   "outputs": [
    {
     "name": "stdout",
     "output_type": "stream",
     "text": [
      "time: 297 ms (started: 2023-05-21 15:40:26 +10:00)\n"
     ]
    }
   ],
   "source": [
    "import geopandas as gpd\n",
    "from shapely.geometry import Point, LineString\n",
    "import os\n",
    "import glob\n",
    "import spatialite\n",
    "import pandas as pd\n",
    "import xml.etree.ElementTree as ET"
   ]
  },
  {
   "cell_type": "code",
   "execution_count": 3,
   "id": "cognitive-acquisition",
   "metadata": {
    "execution": {
     "iopub.execute_input": "2023-05-21T05:40:26.770765Z",
     "iopub.status.busy": "2023-05-21T05:40:26.770391Z",
     "iopub.status.idle": "2023-05-21T05:40:26.772518Z",
     "shell.execute_reply": "2023-05-21T05:40:26.772819Z"
    },
    "papermill": {
     "duration": 0.010069,
     "end_time": "2023-05-21T05:40:26.772925",
     "exception": false,
     "start_time": "2023-05-21T05:40:26.762856",
     "status": "completed"
    },
    "tags": [
     "parameters"
    ]
   },
   "outputs": [
    {
     "name": "stdout",
     "output_type": "stream",
     "text": [
      "time: 297 µs (started: 2023-05-21 15:40:26 +10:00)\n"
     ]
    }
   ],
   "source": [
    "# parameters for papermill\n",
    "DBPATH = '../output/results.db'\n",
    "DATADIR = '../rawdata'"
   ]
  },
  {
   "cell_type": "code",
   "execution_count": 4,
   "id": "narrow-rochester",
   "metadata": {
    "execution": {
     "iopub.execute_input": "2023-05-21T05:40:26.785890Z",
     "iopub.status.busy": "2023-05-21T05:40:26.785540Z",
     "iopub.status.idle": "2023-05-21T05:40:26.787524Z",
     "shell.execute_reply": "2023-05-21T05:40:26.787245Z"
    },
    "papermill": {
     "duration": 0.009302,
     "end_time": "2023-05-21T05:40:26.787610",
     "exception": false,
     "start_time": "2023-05-21T05:40:26.778308",
     "status": "completed"
    },
    "tags": [
     "injected-parameters"
    ]
   },
   "outputs": [
    {
     "name": "stdout",
     "output_type": "stream",
     "text": [
      "time: 233 µs (started: 2023-05-21 15:40:26 +10:00)\n"
     ]
    }
   ],
   "source": [
    "# Parameters\n",
    "DBPATH = \"../output/results.db\"\n"
   ]
  },
  {
   "cell_type": "code",
   "execution_count": 5,
   "id": "textile-dealer",
   "metadata": {
    "execution": {
     "iopub.execute_input": "2023-05-21T05:40:26.800724Z",
     "iopub.status.busy": "2023-05-21T05:40:26.800376Z",
     "iopub.status.idle": "2023-05-21T05:40:26.802545Z",
     "shell.execute_reply": "2023-05-21T05:40:26.802205Z"
    },
    "papermill": {
     "duration": 0.009924,
     "end_time": "2023-05-21T05:40:26.802625",
     "exception": false,
     "start_time": "2023-05-21T05:40:26.792701",
     "status": "completed"
    },
    "tags": []
   },
   "outputs": [
    {
     "name": "stdout",
     "output_type": "stream",
     "text": [
      "time: 395 µs (started: 2023-05-21 15:40:26 +10:00)\n"
     ]
    }
   ],
   "source": [
    "def execute(command):\n",
    "    \"\"\"\n",
    "    Executes a command line.\n",
    "    An error is raised if the command fails, stopping the notebook.\n",
    "    \"\"\"\n",
    "    if os.system(command) != 0:\n",
    "        raise Exception(f'Command failed: {command}')"
   ]
  },
  {
   "cell_type": "code",
   "execution_count": 6,
   "id": "resident-lover",
   "metadata": {
    "execution": {
     "iopub.execute_input": "2023-05-21T05:40:26.815689Z",
     "iopub.status.busy": "2023-05-21T05:40:26.815350Z",
     "iopub.status.idle": "2023-05-21T05:40:26.817367Z",
     "shell.execute_reply": "2023-05-21T05:40:26.817033Z"
    },
    "papermill": {
     "duration": 0.009474,
     "end_time": "2023-05-21T05:40:26.817443",
     "exception": false,
     "start_time": "2023-05-21T05:40:26.807969",
     "status": "completed"
    },
    "tags": []
   },
   "outputs": [
    {
     "name": "stdout",
     "output_type": "stream",
     "text": [
      "time: 318 µs (started: 2023-05-21 15:40:26 +10:00)\n"
     ]
    }
   ],
   "source": [
    "def update_videos_table(video_name):\n",
    "    sql = 'INSERT INTO videos (name) VALUES (?)'\n",
    "    cursor.execute(sql, [video_name])\n",
    "    conn.commit()"
   ]
  },
  {
   "cell_type": "code",
   "execution_count": 7,
   "id": "south-verification",
   "metadata": {
    "execution": {
     "iopub.execute_input": "2023-05-21T05:40:26.833664Z",
     "iopub.status.busy": "2023-05-21T05:40:26.833315Z",
     "iopub.status.idle": "2023-05-21T05:40:26.835348Z",
     "shell.execute_reply": "2023-05-21T05:40:26.835012Z"
    },
    "papermill": {
     "duration": 0.011084,
     "end_time": "2023-05-21T05:40:26.835425",
     "exception": false,
     "start_time": "2023-05-21T05:40:26.824341",
     "status": "completed"
    },
    "tags": []
   },
   "outputs": [
    {
     "name": "stdout",
     "output_type": "stream",
     "text": [
      "time: 840 µs (started: 2023-05-21 15:40:26 +10:00)\n"
     ]
    }
   ],
   "source": [
    "def update_frames_table(video_name):\n",
    "    \"\"\"\n",
    "    This function needs to be optimized.\n",
    "    \"\"\"  \n",
    "    \n",
    "    # Get video_id from videos table    \n",
    "    sql = (f'SELECT id FROM videos WHERE name = \"{video_name}\"')\n",
    "    cursor.execute(sql)\n",
    "    video_id = cursor.fetchone()[0] \n",
    "    \n",
    "    #print(f'video_id: {video_id}')\n",
    "    gps_csv_path = f'{DATADIR}/{video_name}/gps-data.csv'\n",
    "    df = pd.read_csv(gps_csv_path)\n",
    "\n",
    "    for i, row in df.iterrows():\n",
    "        lat = row.latitude_adjusted\n",
    "        lon = row.longitude_adjusted\n",
    "        geometry = f'TRANSFORM(GeomFromText(\"POINT({lon} {lat})\", 4326), 3857)'\n",
    "        frame_number = i\n",
    "        timestamp = row.timestamp        \n",
    "        sql = f'INSERT INTO frames(video_id,frame_number,time,geometry) VALUES({video_id},{frame_number},\"{timestamp}\",{geometry});'\n",
    "        cursor.execute(sql)\n",
    "        conn.commit()"
   ]
  },
  {
   "cell_type": "code",
   "execution_count": 8,
   "id": "historical-tragedy",
   "metadata": {
    "execution": {
     "iopub.execute_input": "2023-05-21T05:40:26.850717Z",
     "iopub.status.busy": "2023-05-21T05:40:26.850371Z",
     "iopub.status.idle": "2023-05-21T05:40:26.852005Z",
     "shell.execute_reply": "2023-05-21T05:40:26.852267Z"
    },
    "papermill": {
     "duration": 0.011222,
     "end_time": "2023-05-21T05:40:26.852352",
     "exception": false,
     "start_time": "2023-05-21T05:40:26.841130",
     "status": "completed"
    },
    "tags": []
   },
   "outputs": [
    {
     "name": "stdout",
     "output_type": "stream",
     "text": [
      "time: 860 µs (started: 2023-05-21 15:40:26 +10:00)\n"
     ]
    }
   ],
   "source": [
    "def update_tracks_table(video_name):\n",
    "    \n",
    "    # Load dataframe from gps-data.csv\n",
    "    df = pd.read_csv(f'{DATADIR}/{video_name}/gps-data.csv')\n",
    "\n",
    "    sql = (f'SELECT id FROM videos WHERE name = \"{video_name}\"')\n",
    "    cursor.execute(sql)\n",
    "    video_id = cursor.fetchone()[0] \n",
    "\n",
    "    # Convert dataframe to a geodataframe\n",
    "    geometry = [Point(xy) for xy in zip(df.longitude_adjusted, df.latitude_adjusted)]\n",
    "    gdf = gpd.GeoDataFrame(df, crs=\"EPSG:4326\", geometry=geometry)\n",
    "\n",
    "    # Reproject geometry to UTM (meters)\n",
    "    gdf = gdf.to_crs('EPSG:3857')\n",
    "\n",
    "    # Get the LineString\n",
    "    ls = LineString(gdf.geometry.to_list())\n",
    "\n",
    "    # Simplify the LineString\n",
    "    lss = ls.simplify(10)\n",
    "\n",
    "    sql = f\"INSERT INTO tracks VALUES(NULL, '{video_name}', GeomFromText('{lss.wkt}',3857));\"\n",
    "    cursor.execute(sql)\n",
    "    conn.commit()   "
   ]
  },
  {
   "cell_type": "code",
   "execution_count": 9,
   "id": "hourly-system",
   "metadata": {
    "execution": {
     "iopub.execute_input": "2023-05-21T05:40:26.870122Z",
     "iopub.status.busy": "2023-05-21T05:40:26.869717Z",
     "iopub.status.idle": "2023-05-21T05:40:26.871592Z",
     "shell.execute_reply": "2023-05-21T05:40:26.871255Z"
    },
    "papermill": {
     "duration": 0.013446,
     "end_time": "2023-05-21T05:40:26.871669",
     "exception": false,
     "start_time": "2023-05-21T05:40:26.858223",
     "status": "completed"
    },
    "tags": []
   },
   "outputs": [
    {
     "name": "stdout",
     "output_type": "stream",
     "text": [
      "time: 1.64 ms (started: 2023-05-21 15:40:26 +10:00)\n"
     ]
    }
   ],
   "source": [
    "def update_trees_and_vcuts_tables(video_name):\n",
    "    damagedict = {'zero': 0, 'light': 1, 'medium': 2, 'high': 3, 'non_recoverable': 4}\n",
    "    \n",
    "    # Get video_id from videos table    \n",
    "    sql = f'SELECT id FROM videos WHERE name = \"{video_name}\"'\n",
    "    cursor.execute(sql)\n",
    "    video_id = cursor.fetchone()[0] \n",
    "\n",
    "    # Iterate through the XML tree, entering records into the trees and vcuts database tables\n",
    "    cvatxml_path = f'../output/detected_objects.xml'\n",
    "    root = ET.parse(cvatxml_path).getroot()\n",
    "    for image in root.iter('image'):\n",
    "        frame_number = int(image.attrib['id'])\n",
    "        sql = f'SELECT id FROM frames WHERE video_id={video_id} AND frame_number={frame_number};'\n",
    "        cursor.execute(sql)\n",
    "\n",
    "        #frame_id = cursor.fetchone()[0]\n",
    "        data = cursor.fetchone()\n",
    "        if data is None:\n",
    "            print(f'ERROR: No data returned by \"{sql}\"')\n",
    "        else:\n",
    "            frame_id = data[0]\n",
    "            for box in image.iter('box'):\n",
    "                damage_index_text = box.attrib['label']\n",
    "                damage_index = damagedict[damage_index_text]\n",
    "                xtl = int(float(box.attrib['xtl']))\n",
    "                ytl = int(float(box.attrib['ytl']))\n",
    "                xbr = int(float(box.attrib['xbr']))\n",
    "                ybr = int(float(box.attrib['ybr']))\n",
    "                geometry = f'GeomFromText(\"MULTIPOINT({xtl} {ytl},{xbr} {ybr})\", -1)'\n",
    "                sql = f'INSERT OR IGNORE INTO trees(frame_id,damage_index,geometry) VALUES ({frame_id},{damage_index},{geometry});'\n",
    "                cursor.execute(sql)\n",
    "                conn.commit()\n",
    "            for polygon in image.iter('polygon'):\n",
    "                points = polygon.attrib['points']\n",
    "                points = points.replace(',', ' ').replace(';', ',') # Reformat points to match WKT for a polygon\n",
    "                geometry = f'PolyFromText(\"POLYGON(({points}))\",-1)'\n",
    "                sql = f'INSERT OR IGNORE INTO vcuts(frame_id,geometry) VALUES({frame_id},{geometry});'\n",
    "                cursor.execute(sql)\n",
    "                conn.commit()"
   ]
  },
  {
   "cell_type": "code",
   "execution_count": 10,
   "id": "technological-cancer",
   "metadata": {
    "execution": {
     "iopub.execute_input": "2023-05-21T05:40:26.891308Z",
     "iopub.status.busy": "2023-05-21T05:40:26.890670Z",
     "iopub.status.idle": "2023-05-21T05:40:28.313683Z",
     "shell.execute_reply": "2023-05-21T05:40:28.312104Z"
    },
    "papermill": {
     "duration": 1.43532,
     "end_time": "2023-05-21T05:40:28.314074",
     "exception": false,
     "start_time": "2023-05-21T05:40:26.878754",
     "status": "completed"
    },
    "tags": []
   },
   "outputs": [
    {
     "name": "stdout",
     "output_type": "stream",
     "text": [
      "../rawdata\n",
      "-- updating videos table\n",
      "-- updating frames table\n"
     ]
    },
    {
     "name": "stdout",
     "output_type": "stream",
     "text": [
      "-- updating tracks table\n",
      "-- updating trees and cuts tables\n"
     ]
    },
    {
     "name": "stdout",
     "output_type": "stream",
     "text": [
      "Changes to entire database\n",
      "--updating trees table\n",
      "--creating tree location table\n",
      "--creating views\n"
     ]
    },
    {
     "name": "stdout",
     "output_type": "stream",
     "text": [
      "--creating grid\n",
      "--creating stats table\n",
      "time: 1.41 s (started: 2023-05-21 15:40:26 +10:00)\n"
     ]
    }
   ],
   "source": [
    "# MAIN\n",
    "\n",
    "# Delete the database so we can start from scratch\n",
    "\n",
    "if os.path.exists(DBPATH):\n",
    "    os.remove(DBPATH)\n",
    "\n",
    "# Create DB\n",
    "\n",
    "execute(f'spatialite {DBPATH} < create_tables2.sql')\n",
    "conn = spatialite.connect(DBPATH)\n",
    "cursor = conn.cursor()\n",
    "\n",
    "# Get video list (actually names of folders of images in DATADIR)\n",
    "\n",
    "video_list = []\n",
    "for path in glob.glob(f'{DATADIR}/*/'):\n",
    "    video_list.append(path.split('/')[2])\n",
    "    \n",
    "if len(video_list)==0:\n",
    "    video_list.append(DATADIR)\n",
    "\n",
    "for video_name in video_list:\n",
    "    print(video_name)\n",
    "    print('-- updating videos table')\n",
    "    update_videos_table(video_name)\n",
    "    print('-- updating frames table')\n",
    "    update_frames_table(video_name)\n",
    "    print('-- updating tracks table')\n",
    "    update_tracks_table(video_name)\n",
    "    print('-- updating trees and cuts tables')\n",
    "    update_trees_and_vcuts_tables(video_name)\n",
    "cursor.close()\n",
    "conn.close()\n",
    "\n",
    "print('Changes to entire database')\n",
    "\n",
    "print('--updating trees table')\n",
    "execute(f'spatialite {DBPATH} < update_trees_table.sql')\n",
    "\n",
    "print('--creating tree location table')\n",
    "execute(f'spatialite {DBPATH} < create_tree_location_table.sql')\n",
    "\n",
    "print('--creating views')\n",
    "execute(f'spatialite {DBPATH} < create_views.sql')\n",
    "\n",
    "print('--creating grid')\n",
    "execute(f'spatialite {DBPATH} < create_grid.sql')\n",
    "\n",
    "print('--creating stats table')\n",
    "execute(f'spatialite {DBPATH} < create_stats_table.sql')"
   ]
  }
 ],
 "metadata": {
  "kernelspec": {
   "display_name": "Python 3",
   "language": "python",
   "name": "python3"
  },
  "language_info": {
   "codemirror_mode": {
    "name": "ipython",
    "version": 3
   },
   "file_extension": ".py",
   "mimetype": "text/x-python",
   "name": "python",
   "nbconvert_exporter": "python",
   "pygments_lexer": "ipython3",
   "version": "3.6.9"
  },
  "papermill": {
   "default_parameters": {},
   "duration": 2.800088,
   "end_time": "2023-05-21T05:40:28.654590",
   "environment_variables": {},
   "exception": null,
   "input_path": "create_db.ipynb",
   "output_path": "../output/create_db.ipynb",
   "parameters": {
    "DBPATH": "../output/results.db"
   },
   "start_time": "2023-05-21T05:40:25.854502",
   "version": "2.3.1"
  }
 },
 "nbformat": 4,
 "nbformat_minor": 5
}