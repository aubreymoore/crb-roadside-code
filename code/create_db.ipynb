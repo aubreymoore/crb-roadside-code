{
 "cells": [
  {
   "cell_type": "markdown",
   "id": "parental-manufacturer",
   "metadata": {},
   "source": [
    "# create_db\n",
    "\n",
    "Creates and populates a SpatiaLite database.\n",
    "\n",
    "* 2021-11-25 Changed code so that DATADIR can contain a list of images, or multiple directories, each containing a list of images\n",
    "* 2021-11-26 Added **execute** function to run commands; raises an error which stops notebook if execution fails\n",
    "* 2022-10-15 Added parameters tag, improved inline documentation\n",
    "\n",
    "## spatialite\n",
    "\n",
    "Obviously, SpatiaLite must be installed:\n",
    "\n",
    "```\n",
    "sudo apt-get update -y\n",
    "sudo apt-get install -y spatialite-bin\n",
    "```\n",
    "## other dependancies\n",
    "\n",
    "* update_trees_table.sql\n",
    "* create_tree_location_table.sql\n",
    "* create_views.sql\n",
    "* create_grid.sql\n",
    "* create_stats_table.sql"
   ]
  },
  {
   "cell_type": "code",
   "execution_count": 19,
   "id": "partial-impossible",
   "metadata": {},
   "outputs": [
    {
     "name": "stdout",
     "output_type": "stream",
     "text": [
      "The autotime extension is already loaded. To reload it, use:\n",
      "  %reload_ext autotime\n",
      "time: 1.47 ms (started: 2022-10-09 13:39:07 +10:00)\n"
     ]
    }
   ],
   "source": [
    "try:\n",
    "    %load_ext autotime\n",
    "except:\n",
    "    !pip install ipython-autotime\n",
    "    %load_ext autotime"
   ]
  },
  {
   "cell_type": "code",
   "execution_count": 20,
   "id": "conservative-shoot",
   "metadata": {},
   "outputs": [
    {
     "name": "stdout",
     "output_type": "stream",
     "text": [
      "time: 15 ms (started: 2022-10-09 13:39:07 +10:00)\n"
     ]
    }
   ],
   "source": [
    "import geopandas as gpd\n",
    "from shapely.geometry import Point, LineString\n",
    "import os\n",
    "import glob\n",
    "import spatialite\n",
    "import pandas as pd\n",
    "import xml.etree.ElementTree as ET"
   ]
  },
  {
   "cell_type": "code",
   "execution_count": 21,
   "id": "cognitive-acquisition",
   "metadata": {
    "tags": [
     "parameters"
    ]
   },
   "outputs": [
    {
     "name": "stdout",
     "output_type": "stream",
     "text": [
      "time: 7.46 ms (started: 2022-10-09 13:39:07 +10:00)\n"
     ]
    }
   ],
   "source": [
    "# parameters for papermill\n",
    "DBPATH = '../output/results.db'\n",
    "DATADIR = '../rawdata'"
   ]
  },
  {
   "cell_type": "code",
   "execution_count": 22,
   "id": "textile-dealer",
   "metadata": {},
   "outputs": [
    {
     "name": "stdout",
     "output_type": "stream",
     "text": [
      "time: 8.53 ms (started: 2022-10-09 13:39:07 +10:00)\n"
     ]
    }
   ],
   "source": [
    "def execute(command):\n",
    "    \"\"\"\n",
    "    Executes a command line.\n",
    "    An error is raised if the command fails, stopping the notebook.\n",
    "    \"\"\"\n",
    "    if os.system(command) != 0:\n",
    "        raise Exception(f'Command failed: {command}')"
   ]
  },
  {
   "cell_type": "code",
   "execution_count": 23,
   "id": "resident-lover",
   "metadata": {},
   "outputs": [
    {
     "name": "stdout",
     "output_type": "stream",
     "text": [
      "time: 8 ms (started: 2022-10-09 13:39:07 +10:00)\n"
     ]
    }
   ],
   "source": [
    "def update_videos_table(video_name):\n",
    "    sql = 'INSERT INTO videos (name) VALUES (?)'\n",
    "    cursor.execute(sql, [video_name])\n",
    "    conn.commit()"
   ]
  },
  {
   "cell_type": "code",
   "execution_count": 24,
   "id": "south-verification",
   "metadata": {},
   "outputs": [
    {
     "name": "stdout",
     "output_type": "stream",
     "text": [
      "time: 12.3 ms (started: 2022-10-09 13:39:08 +10:00)\n"
     ]
    }
   ],
   "source": [
    "def update_frames_table(video_name):\n",
    "    \"\"\"\n",
    "    This function needs to be optimized.\n",
    "    \"\"\"  \n",
    "    \n",
    "    # Get video_id from videos table    \n",
    "    sql = (f'SELECT id FROM videos WHERE name = \"{video_name}\"')\n",
    "    cursor.execute(sql)\n",
    "    video_id = cursor.fetchone()[0] \n",
    "    \n",
    "    #print(f'video_id: {video_id}')\n",
    "    gps_csv_path = f'{DATADIR}/{video_name}/gps-data.csv'\n",
    "    df = pd.read_csv(gps_csv_path)\n",
    "\n",
    "    for i, row in df.iterrows():\n",
    "        lat = row.latitude_adjusted\n",
    "        lon = row.longitude_adjusted\n",
    "        geometry = f'TRANSFORM(GeomFromText(\"POINT({lon} {lat})\", 4326), 3857)'\n",
    "        frame_number = i\n",
    "        timestamp = row.timestamp        \n",
    "        sql = f'INSERT INTO frames(video_id,frame_number,time,geometry) VALUES({video_id},{frame_number},\"{timestamp}\",{geometry});'\n",
    "        cursor.execute(sql)\n",
    "        conn.commit()"
   ]
  },
  {
   "cell_type": "code",
   "execution_count": 25,
   "id": "historical-tragedy",
   "metadata": {},
   "outputs": [
    {
     "name": "stdout",
     "output_type": "stream",
     "text": [
      "time: 8.81 ms (started: 2022-10-09 13:39:08 +10:00)\n"
     ]
    }
   ],
   "source": [
    "def update_tracks_table(video_name):\n",
    "    \n",
    "    # Load dataframe from gps-data.csv\n",
    "    df = pd.read_csv(f'{DATADIR}/{video_name}/gps-data.csv')\n",
    "\n",
    "    sql = (f'SELECT id FROM videos WHERE name = \"{video_name}\"')\n",
    "    cursor.execute(sql)\n",
    "    video_id = cursor.fetchone()[0] \n",
    "\n",
    "    # Convert dataframe to a geodataframe\n",
    "    geometry = [Point(xy) for xy in zip(df.longitude_adjusted, df.latitude_adjusted)]\n",
    "    gdf = gpd.GeoDataFrame(df, crs=\"EPSG:4326\", geometry=geometry)\n",
    "\n",
    "    # Reproject geometry to UTM (meters)\n",
    "    gdf = gdf.to_crs('EPSG:3857')\n",
    "\n",
    "    # Get the LineString\n",
    "    ls = LineString(gdf.geometry.to_list())\n",
    "\n",
    "    # Simplify the LineString\n",
    "    lss = ls.simplify(10)\n",
    "\n",
    "    sql = f\"INSERT INTO tracks VALUES(NULL, '{video_name}', GeomFromText('{lss.wkt}',3857));\"\n",
    "    cursor.execute(sql)\n",
    "    conn.commit()   "
   ]
  },
  {
   "cell_type": "code",
   "execution_count": 26,
   "id": "hourly-system",
   "metadata": {},
   "outputs": [
    {
     "name": "stdout",
     "output_type": "stream",
     "text": [
      "time: 5.13 ms (started: 2022-10-09 13:39:08 +10:00)\n"
     ]
    }
   ],
   "source": [
    "def update_trees_and_vcuts_tables(video_name):\n",
    "    damagedict = {'zero': 0, 'light': 1, 'medium': 2, 'high': 3, 'non_recoverable': 4}\n",
    "    \n",
    "    # Get video_id from videos table    \n",
    "    sql = f'SELECT id FROM videos WHERE name = \"{video_name}\"'\n",
    "    cursor.execute(sql)\n",
    "    video_id = cursor.fetchone()[0] \n",
    "\n",
    "    # Iterate through the XML tree, entering records into the trees and vcuts database tables\n",
    "    cvatxml_path = f'../output/detected_objects.xml'\n",
    "    root = ET.parse(cvatxml_path).getroot()\n",
    "    for image in root.iter('image'):\n",
    "        frame_number = int(image.attrib['id'])\n",
    "        sql = f'SELECT id FROM frames WHERE video_id={video_id} AND frame_number={frame_number};'\n",
    "        cursor.execute(sql)\n",
    "\n",
    "        #frame_id = cursor.fetchone()[0]\n",
    "        data = cursor.fetchone()\n",
    "        if data is None:\n",
    "            print(f'ERROR: No data returned by \"{sql}\"')\n",
    "        else:\n",
    "            frame_id = data[0]\n",
    "            for box in image.iter('box'):\n",
    "                damage_index_text = box.attrib['label']\n",
    "                damage_index = damagedict[damage_index_text]\n",
    "                xtl = int(float(box.attrib['xtl']))\n",
    "                ytl = int(float(box.attrib['ytl']))\n",
    "                xbr = int(float(box.attrib['xbr']))\n",
    "                ybr = int(float(box.attrib['ybr']))\n",
    "                geometry = f'GeomFromText(\"MULTIPOINT({xtl} {ytl},{xbr} {ybr})\", -1)'\n",
    "                sql = f'INSERT OR IGNORE INTO trees(frame_id,damage_index,geometry) VALUES ({frame_id},{damage_index},{geometry});'\n",
    "                cursor.execute(sql)\n",
    "                conn.commit()\n",
    "            for polygon in image.iter('polygon'):\n",
    "                points = polygon.attrib['points']\n",
    "                points = points.replace(',', ' ').replace(';', ',') # Reformat points to match WKT for a polygon\n",
    "                geometry = f'PolyFromText(\"POLYGON(({points}))\",-1)'\n",
    "                sql = f'INSERT OR IGNORE INTO vcuts(frame_id,geometry) VALUES({frame_id},{geometry});'\n",
    "                cursor.execute(sql)\n",
    "                conn.commit()"
   ]
  },
  {
   "cell_type": "code",
   "execution_count": 27,
   "id": "technological-cancer",
   "metadata": {},
   "outputs": [
    {
     "name": "stdout",
     "output_type": "stream",
     "text": [
      "../rawdata\n",
      "-- updating videos table\n",
      "-- updating frames table\n",
      "-- updating tracks table\n",
      "-- updating trees and cuts tables\n",
      "Changes to entire database\n",
      "--updating trees table\n",
      "--creating tree location table\n",
      "--creating views\n",
      "--creating grid\n",
      "--creating stats table\n",
      "time: 4min 42s (started: 2022-10-09 13:39:08 +10:00)\n"
     ]
    }
   ],
   "source": [
    "# MAIN\n",
    "\n",
    "# Delete the database so we can start from scratch\n",
    "\n",
    "if os.path.exists(DBPATH):\n",
    "    os.remove(DBPATH)\n",
    "\n",
    "# Create DB\n",
    "\n",
    "execute(f'spatialite {DBPATH} < create_tables2.sql')\n",
    "conn = spatialite.connect(DBPATH)\n",
    "cursor = conn.cursor()\n",
    "\n",
    "# Get video list (actually names of folders of images in DATADIR)\n",
    "\n",
    "video_list = []\n",
    "for path in glob.glob(f'{DATADIR}/*/'):\n",
    "    video_list.append(path.split('/')[2])\n",
    "    \n",
    "if len(video_list)==0:\n",
    "    video_list.append(DATADIR)\n",
    "\n",
    "for video_name in video_list:\n",
    "    print(video_name)\n",
    "    print('-- updating videos table')\n",
    "    update_videos_table(video_name)\n",
    "    print('-- updating frames table')\n",
    "    update_frames_table(video_name)\n",
    "    print('-- updating tracks table')\n",
    "    update_tracks_table(video_name)\n",
    "    print('-- updating trees and cuts tables')\n",
    "    update_trees_and_vcuts_tables(video_name)\n",
    "cursor.close()\n",
    "conn.close()\n",
    "\n",
    "print('Changes to entire database')\n",
    "\n",
    "print('--updating trees table')\n",
    "execute(f'spatialite {DBPATH} < update_trees_table.sql')\n",
    "\n",
    "print('--creating tree location table')\n",
    "execute(f'spatialite {DBPATH} < create_tree_location_table.sql')\n",
    "\n",
    "print('--creating views')\n",
    "execute(f'spatialite {DBPATH} < create_views.sql')\n",
    "\n",
    "print('--creating grid')\n",
    "execute(f'spatialite {DBPATH} < create_grid.sql')\n",
    "\n",
    "print('--creating stats table')\n",
    "execute(f'spatialite {DBPATH} < create_stats_table.sql')"
   ]
  }
 ],
 "metadata": {
  "kernelspec": {
   "display_name": "Python 3",
   "language": "python",
   "name": "python3"
  },
  "language_info": {
   "codemirror_mode": {
    "name": "ipython",
    "version": 3
   },
   "file_extension": ".py",
   "mimetype": "text/x-python",
   "name": "python",
   "nbconvert_exporter": "python",
   "pygments_lexer": "ipython3",
   "version": "3.6.9"
  }
 },
 "nbformat": 4,
 "nbformat_minor": 5
}
